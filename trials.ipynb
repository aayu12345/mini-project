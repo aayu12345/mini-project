{
 "cells": [
  {
   "cell_type": "code",
   "execution_count": 1,
   "metadata": {},
   "outputs": [
    {
     "name": "stdout",
     "output_type": "stream",
     "text": [
      "Collecting python-dotenv\n",
      "  Using cached python_dotenv-1.0.1-py3-none-any.whl.metadata (23 kB)\n",
      "Using cached python_dotenv-1.0.1-py3-none-any.whl (19 kB)\n",
      "Installing collected packages: python-dotenv\n",
      "Successfully installed python-dotenv-1.0.1\n"
     ]
    }
   ],
   "source": [
    "!pip install python-dotenv\n"
   ]
  },
  {
   "cell_type": "code",
   "execution_count": 3,
   "metadata": {},
   "outputs": [],
   "source": [
    "from dotenv import load_dotenv\n",
    "import os\n",
    "\n",
    "# Load the .env file\n",
    "load_dotenv()\n",
    "\n",
    "# Access the API key\n",
    "api_key = os.getenv('GROQ_API_KEY')\n",
    "\n",
    "\n"
   ]
  },
  {
   "cell_type": "code",
   "execution_count": 4,
   "metadata": {},
   "outputs": [],
   "source": [
    "from langchain_groq import ChatGroq\n",
    "\n",
    "llm = ChatGroq(\n",
    "    model_name=\"llama-3.1-70b-versatile\",\n",
    "    temperature=0,\n",
    "    groq_api_key='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'\n",
    "\n",
    ")"
   ]
  },
  {
   "cell_type": "code",
   "execution_count": 80,
   "metadata": {},
   "outputs": [
    {
     "name": "stdout",
     "output_type": "stream",
     "text": [
      "**Answer: Yes**\n",
      "\n",
      "Reasoning:\n",
      "1. Mahrauli is a part of Ghaziabad district, which is a rapidly urbanizing area with a high population density.\n",
      "2. The town's proximity to Delhi, the national capital, contributes to its urban development and growth.\n",
      "3. Ghaziabad is known for its industrial and commercial activities, leading to increased urban heat island effect.\n",
      "4. The region's geographical characteristics, such as being situated in the Indo-Gangetic Plain, can exacerbate the UHI effect due to the flat terrain and limited natural ventilation.\n",
      "5. The urban sprawl and lack of green spaces in the area can further intensify the UHI effect.\n",
      "\n",
      "**Recommendations to reduce the UHI effect:**\n",
      "\n",
      "1. **Increase Green Spaces**: Plant more trees and create parks to provide shade, absorb carbon dioxide, and release oxygen, helping to mitigate the UHI effect.\n",
      "2. **Implement Urban Planning**: Encourage mixed-use development, pedestrian-friendly infrastructure, and narrow streets to reduce the urban heat island effect.\n",
      "3. **Promote Green Roofs**: Incentivize building owners to install green roofs or rooftop gardens to reduce heat gain and provide insulation.\n",
      "4. **Use Cool Pavements**: Apply cool pavement technologies, such as lighter-colored asphalt or concrete, to reduce the amount of heat absorbed by roads and sidewalks.\n",
      "5. **Implement Energy-Efficient Buildings**: Encourage the use of energy-efficient building materials, designs, and systems to reduce heat gain and energy consumption.\n"
     ]
    }
   ],
   "source": [
    "from langchain_groq import ChatGroq\n",
    "\n",
    "llm = ChatGroq(\n",
    "    model_name=\"llama-3.1-70b-versatile\",\n",
    "    temperature=0,\n",
    "    groq_api_key='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'\n",
    "\n",
    ")\n",
    "from langchain_core.prompts import PromptTemplate\n",
    "prompt_extract = PromptTemplate(\n",
    "    input_variables=['State', 'District', 'Town'],\n",
    "    template=\"\"\"\n",
    "    Urban Heat Island (UHI) Effect Assessment:\n",
    "\n",
    "    Location:\n",
    "    State: {State}\n",
    "    District: {District}\n",
    "    Town: {Town}\n",
    "\n",
    "    Determine if the specified location falls under the Urban Heat Island (UHI) effect.\n",
    "    If you are unsure, please respond with 'no' and provide reasoning based on factors like population density, urban development, and geographical characteristics.\n",
    "    \n",
    "    1. Answer only \"yes\" or \"no\". If \"yes\", explain briefly in 4-5 bullet points numberwise why (in simple language).\n",
    "    2. Provide 4-5 concise, actionable recommendations that can help reduce the UHI effect in this location (whether the answer is yes or no).\n",
    "    \"\"\"\n",
    ")\n",
    "\n",
    "# Your input data\n",
    "input_data = {\n",
    "    'State': \"Uttar Pradesh\",\n",
    "    'District': \"Ghaziabad\",\n",
    "    'Town': \"Mahrauli\"\n",
    "}\n",
    "\n",
    "# Assuming you have already defined `prompt_extract` and `llm`\n",
    "chain_extract = prompt_extract | llm\n",
    "\n",
    "# Invoke the chain with the input data\n",
    "res = chain_extract.invoke(input=input_data)\n",
    "\n",
    "# Print the result\n",
    "print(res.content)\n",
    "\n"
   ]
  },
  {
   "cell_type": "code",
   "execution_count": 81,
   "metadata": {},
   "outputs": [
    {
     "data": {
      "text/plain": [
       "\"**Answer: Yes**\\n\\nReasoning:\\n1. Mahrauli is a part of Ghaziabad district, which is a rapidly urbanizing area with a high population density.\\n2. The town's proximity to Delhi, the national capital, contributes to its urban development and growth.\\n3. Ghaziabad is known for its industrial and commercial activities, leading to increased urban heat island effect.\\n4. The region's geographical characteristics, such as being situated in the Indo-Gangetic Plain, can exacerbate the UHI effect due to the flat terrain and limited natural ventilation.\\n5. The urban sprawl and lack of green spaces in the area can further intensify the UHI effect.\\n\\n**Recommendations to reduce the UHI effect:**\\n\\n1. **Increase Green Spaces**: Plant more trees and create parks to provide shade, absorb carbon dioxide, and release oxygen, helping to mitigate the UHI effect.\\n2. **Implement Urban Planning**: Encourage mixed-use development, pedestrian-friendly infrastructure, and narrow streets to reduce the urban heat island effect.\\n3. **Promote Green Roofs**: Incentivize building owners to install green roofs or rooftop gardens to reduce heat gain and provide insulation.\\n4. **Use Cool Pavements**: Apply cool pavement technologies, such as lighter-colored asphalt or concrete, to reduce the amount of heat absorbed by roads and sidewalks.\\n5. **Implement Energy-Efficient Buildings**: Encourage the use of energy-efficient building materials, designs, and systems to reduce heat gain and energy consumption.\""
      ]
     },
     "execution_count": 81,
     "metadata": {},
     "output_type": "execute_result"
    }
   ],
   "source": [
    "res.content"
   ]
  },
  {
   "cell_type": "code",
   "execution_count": 82,
   "metadata": {},
   "outputs": [
    {
     "data": {
      "text/plain": [
       "[' Yes']"
      ]
     },
     "execution_count": 82,
     "metadata": {},
     "output_type": "execute_result"
    }
   ],
   "source": [
    "\n",
    "import re\n",
    "\n",
    "# Use backslashes to escape the `*` characters in `**`\n",
    "pattern = r\"\\*\\*Answer:(.*?)\\*\\*\\n\\nReasoning:\\n1\"\n",
    "re.findall(pattern, res.content, re.DOTALL)\n",
    "\n",
    "\n"
   ]
  },
  {
   "cell_type": "code",
   "execution_count": 110,
   "metadata": {},
   "outputs": [
    {
     "data": {
      "text/plain": [
       "[\"1. Mahrauli is a part of Ghaziabad district, which is a rapidly urbanizing area with a high population density.\\n2. The town's proximity to Delhi, the national capital, contributes to its urban development and growth.\\n3. Ghaziabad is known for its industrial and commercial activities, leading to increased urban heat island effect.\\n4. The region's geographical characteristics, such as being situated in the Indo-Gangetic Plain, can exacerbate the UHI effect due to the flat terrain and limited natural ventilation.\\n5. The urban sprawl and lack of green spaces in the area can further intensify the UHI effect.\"]"
      ]
     },
     "execution_count": 110,
     "metadata": {},
     "output_type": "execute_result"
    }
   ],
   "source": [
    "re.findall(r\"\\*\\*\\n\\nReasoning:\\n(.*?)\\n\\n\\*\\*Recommendations to reduce the UHI effect:\\*\\*\\n.\",res.content ,re.DOTALL)"
   ]
  },
  {
   "cell_type": "code",
   "execution_count": 86,
   "metadata": {},
   "outputs": [
    {
     "data": {
      "text/plain": [
       "['1. **Increase Green Spaces**: Plant more trees and create parks to provide shade, absorb carbon dioxide, and release oxygen, helping to mitigate the UHI effect.\\n2. **Implement Urban Planning**: Encourage mixed-use development, pedestrian-friendly infrastructure, and narrow streets to reduce the urban heat island effect.\\n3. **Promote Green Roofs**: Incentivize building owners to install green roofs or rooftop gardens to reduce heat gain and provide insulation.\\n4. **Use Cool Pavements**: Apply cool pavement technologies, such as lighter-colored asphalt or concrete, to reduce the amount of heat absorbed by roads and sidewalks.\\n5. **Implement Energy-Efficient Buildings**: Encourage the use of energy-efficient building materials, designs, and systems to reduce heat gain and energy consumption.']"
      ]
     },
     "execution_count": 86,
     "metadata": {},
     "output_type": "execute_result"
    }
   ],
   "source": [
    "re.findall(r\"\\n\\n\\*\\*Recommendations to reduce the UHI effect:\\*\\*\\n.(.*?)$\",res.content,re.DOTALL)"
   ]
  },
  {
   "cell_type": "code",
   "execution_count": 129,
   "metadata": {},
   "outputs": [],
   "source": [
    "PREDICTION=re.findall(pattern, res.content, re.DOTALL)\n",
    "Reasons = re.findall(r\"\\*\\*\\n\\nReasoning:\\n(.*?)\\n\\n\\*\\*Recommendations to reduce the UHI effect:\\*\\*\\n.\",res.content ,re.DOTALL)\n",
    "Recommendations=re.findall(r\"\\n\\n\\*\\*Recommendations to reduce the UHI effect:\\*\\*\\n.(.*?)$\",res.content,re.DOTALL)"
   ]
  },
  {
   "cell_type": "code",
   "execution_count": 133,
   "metadata": {},
   "outputs": [
    {
     "data": {
      "text/plain": [
       "['Yes']"
      ]
     },
     "execution_count": 133,
     "metadata": {},
     "output_type": "execute_result"
    }
   ],
   "source": [
    "PREDICTION"
   ]
  },
  {
   "cell_type": "code",
   "execution_count": 132,
   "metadata": {},
   "outputs": [],
   "source": [
    "PREDICTION = [reason.strip() for reason in PREDICTION[0].strip().split('\\n') if reason.strip()] if PREDICTION else []"
   ]
  },
  {
   "cell_type": "code",
   "execution_count": 113,
   "metadata": {},
   "outputs": [
    {
     "data": {
      "text/plain": [
       "[\"1. Mahrauli is a part of Ghaziabad district, which is a rapidly urbanizing area with a high population density.\\n2. The town's proximity to Delhi, the national capital, contributes to its urban development and growth.\\n3. Ghaziabad is known for its industrial and commercial activities, leading to increased urban heat island effect.\\n4. The region's geographical characteristics, such as being situated in the Indo-Gangetic Plain, can exacerbate the UHI effect due to the flat terrain and limited natural ventilation.\\n5. The urban sprawl and lack of green spaces in the area can further intensify the UHI effect.\"]"
      ]
     },
     "execution_count": 113,
     "metadata": {},
     "output_type": "execute_result"
    }
   ],
   "source": [
    "Reasons"
   ]
  },
  {
   "cell_type": "code",
   "execution_count": 137,
   "metadata": {},
   "outputs": [],
   "source": [
    "Reasons = [reason.strip() for reason in Reasons[0].strip().split('\\n') if reason.strip()] if Reasons else []\n"
   ]
  },
  {
   "cell_type": "code",
   "execution_count": 138,
   "metadata": {},
   "outputs": [
    {
     "name": "stdout",
     "output_type": "stream",
     "text": [
      "1. Mahrauli is a part of Ghaziabad district, which is a rapidly urbanizing area with a high population density.\n",
      "2. The town's proximity to Delhi, the national capital, contributes to its urban development and growth.\n",
      "3. Ghaziabad is known for its industrial and commercial activities, leading to increased urban heat island effect.\n",
      "4. The region's geographical characteristics, such as being situated in the Indo-Gangetic Plain, can exacerbate the UHI effect due to the flat terrain and limited natural ventilation.\n",
      "5. The urban sprawl and lack of green spaces in the area can further intensify the UHI effect.\n"
     ]
    }
   ],
   "source": [
    "for i in Reasons:\n",
    "    print(i)\n",
    "    "
   ]
  },
  {
   "cell_type": "code",
   "execution_count": 139,
   "metadata": {},
   "outputs": [
    {
     "data": {
      "text/plain": [
       "['1. Mahrauli is a part of Ghaziabad district, which is a rapidly urbanizing area with a high population density.',\n",
       " \"2. The town's proximity to Delhi, the national capital, contributes to its urban development and growth.\",\n",
       " '3. Ghaziabad is known for its industrial and commercial activities, leading to increased urban heat island effect.',\n",
       " \"4. The region's geographical characteristics, such as being situated in the Indo-Gangetic Plain, can exacerbate the UHI effect due to the flat terrain and limited natural ventilation.\",\n",
       " '5. The urban sprawl and lack of green spaces in the area can further intensify the UHI effect.']"
      ]
     },
     "execution_count": 139,
     "metadata": {},
     "output_type": "execute_result"
    }
   ],
   "source": [
    "Reasons"
   ]
  },
  {
   "cell_type": "code",
   "execution_count": 130,
   "metadata": {},
   "outputs": [],
   "source": [
    "Recommendations=[reason.strip() for reason in Recommendations[0].strip().split('\\n') if reason.strip()] if Recommendations else []"
   ]
  },
  {
   "cell_type": "code",
   "execution_count": 131,
   "metadata": {},
   "outputs": [
    {
     "data": {
      "text/plain": [
       "['1. **Increase Green Spaces**: Plant more trees and create parks to provide shade, absorb carbon dioxide, and release oxygen, helping to mitigate the UHI effect.',\n",
       " '2. **Implement Urban Planning**: Encourage mixed-use development, pedestrian-friendly infrastructure, and narrow streets to reduce the urban heat island effect.',\n",
       " '3. **Promote Green Roofs**: Incentivize building owners to install green roofs or rooftop gardens to reduce heat gain and provide insulation.',\n",
       " '4. **Use Cool Pavements**: Apply cool pavement technologies, such as lighter-colored asphalt or concrete, to reduce the amount of heat absorbed by roads and sidewalks.',\n",
       " '5. **Implement Energy-Efficient Buildings**: Encourage the use of energy-efficient building materials, designs, and systems to reduce heat gain and energy consumption.']"
      ]
     },
     "execution_count": 131,
     "metadata": {},
     "output_type": "execute_result"
    }
   ],
   "source": [
    "Recommendations"
   ]
  },
  {
   "cell_type": "code",
   "execution_count": 140,
   "metadata": {},
   "outputs": [
    {
     "name": "stdout",
     "output_type": "stream",
     "text": [
      "Prediction ['Yes']\n",
      "Why  ['1. Mahrauli is a part of Ghaziabad district, which is a rapidly urbanizing area with a high population density.', \"2. The town's proximity to Delhi, the national capital, contributes to its urban development and growth.\", '3. Ghaziabad is known for its industrial and commercial activities, leading to increased urban heat island effect.', \"4. The region's geographical characteristics, such as being situated in the Indo-Gangetic Plain, can exacerbate the UHI effect due to the flat terrain and limited natural ventilation.\", '5. The urban sprawl and lack of green spaces in the area can further intensify the UHI effect.']\n"
     ]
    }
   ],
   "source": [
    "print(\"Prediction\",PREDICTION)\n",
    "print(\"Why \",Reasons)"
   ]
  },
  {
   "cell_type": "code",
   "execution_count": null,
   "metadata": {},
   "outputs": [],
   "source": []
  }
 ],
 "metadata": {
  "kernelspec": {
   "display_name": "reccomend",
   "language": "python",
   "name": "python3"
  },
  "language_info": {
   "codemirror_mode": {
    "name": "ipython",
    "version": 3
   },
   "file_extension": ".py",
   "mimetype": "text/x-python",
   "name": "python",
   "nbconvert_exporter": "python",
   "pygments_lexer": "ipython3",
   "version": "3.12.7"
  }
 },
 "nbformat": 4,
 "nbformat_minor": 2
}
